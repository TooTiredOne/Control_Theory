{
  "nbformat": 4,
  "nbformat_minor": 0,
  "metadata": {
    "colab": {
      "name": "CT_hw1_tasks56.ipynb",
      "provenance": [],
      "collapsed_sections": []
    },
    "kernelspec": {
      "name": "python3",
      "display_name": "Python 3"
    }
  },
  "cells": [
    {
      "cell_type": "markdown",
      "metadata": {
        "id": "8G3uU6yjiyf4",
        "colab_type": "text"
      },
      "source": [
        "# Task 5. Converting ODE to State Sapce representation\n",
        "\n",
        "We need to convert:\n",
        "$a_{k}y^{(k)} + a_{k-1}y^{(k-1)} + ... + a_{2}y^{\\prime\\prime} + a_{1}y^{\\prime} + a_{0}y = b_0$\n",
        "\n",
        "To: $X^{\\prime} = AX + B$\n",
        "\n",
        "**Solution**:\n",
        "\n",
        "Express the highest order derivative: \n",
        "$$y^{k} = \\frac{b_0}{a_k} - \\frac{a_{k-1}}{a_k}y^{(k-1)} - ... - \\frac{a_{2}}{a_k}y^{\\prime\\prime} - \\frac{a_{1}}{a_k}y^{\\prime} - \\frac{a_{0}}{a_k}y $$\n",
        "\n",
        "Declare \n",
        "$$X = \\begin{bmatrix}  y \\\\ ... \\\\ y^{(k-2)} \\\\ y^{(k-1)} \\end{bmatrix} and \\ \\ X^{\\prime} = \\begin{bmatrix}  y^{\\prime} \\\\ ... \\\\ y^{(k-1)} \\\\ y^{(k)} \\end{bmatrix}$$\n",
        "\n",
        "And, finally\n",
        "\n",
        "$\\begin{bmatrix}  y^{\\prime} \\\\ y^{\\prime\\prime}\\\\... \\\\ y^{(k-1)} \\\\ y^{(k)} \\end{bmatrix} = \\begin{bmatrix}  0 & 1 & 0 & 0 & ... & 0 \\\\ 0 & 0 & 1 & 0 & ... & 0 \\\\... & ... & ... & ... & ... & ... \\\\ 0 & 0 & 0 & 0 & ... & 1 \\\\ -\\frac{a_0}{a_k} & -\\frac{a_1}{a_k} & -\\frac{a_2}{a_k} & -\\frac{a_3}{a_k} & ... & -\\frac{a_{k-1}}{a_k}\\end{bmatrix} \\cdot \\begin{bmatrix}  y \\\\ y^{\\prime}\\\\... \\\\ y^{(k-2)} \\\\ y^{(k-1)} \\end{bmatrix} + \\begin{bmatrix}  0 \\\\ 0\\\\... \\\\ 0 \\\\ \\frac{b_0}{a_k} \\end{bmatrix}$\n",
        "\n",
        "\n",
        "## Code"
      ]
    },
    {
      "cell_type": "code",
      "metadata": {
        "id": "oVU5gBWvauLD",
        "colab_type": "code",
        "colab": {}
      },
      "source": [
        "#importing libraries\n",
        "import matplotlib.pyplot as plt\n",
        "import numpy as np\n",
        "from scipy.integrate import odeint"
      ],
      "execution_count": 0,
      "outputs": []
    },
    {
      "cell_type": "code",
      "metadata": {
        "id": "IRxapDcUiqh5",
        "colab_type": "code",
        "outputId": "dd5dfb0d-975f-4c94-c228-91961f739cd0",
        "colab": {
          "base_uri": "https://localhost:8080/",
          "height": 238
        }
      },
      "source": [
        "def doe_to_ss(k : float, coefs : list, b0 : float):\n",
        "  \"\"\"A function for producing matrices A and B\n",
        "  \n",
        "  k - degree of ODE\n",
        "  coefs - the following list of coefficients: [a_k, a_{k-1}, ..., a_1, a_0]\n",
        "  b0 - free coefficient\"\"\"\n",
        "\n",
        "  #initializing A and B\n",
        "  A = np.zeros((k, k))\n",
        "  B = np.zeros(k)\n",
        "\n",
        "  #filling 1-(k-1) rows of A\n",
        "  for i in range(k-1):\n",
        "    A[i][i+1] = 1\n",
        "  \n",
        "  #filling the last row of A\n",
        "  count = k\n",
        "  for i in range(k):\n",
        "    A[k-1][i] = -coefs[count] / coefs[0]\n",
        "    count -= 1\n",
        "  \n",
        "  B[k-1] = b0 / coefs[0]\n",
        "\n",
        "  return (A, B)\n",
        "\n",
        "\n",
        "#Testing the function\n",
        "print(\"------Test-------\")\n",
        "A, B = doe_to_ss(2, [3, 3, 0], 1)\n",
        "\n",
        "print(\"A:\\n\", A)\n",
        "print(\"B:\\n\", B)\n",
        "\n",
        "A, B = doe_to_ss(4, [3, 2, -3, 2, 0], 3)\n",
        "\n",
        "print(\"A:\\n\", A)\n",
        "print(\"B:\\n\", B)\n"
      ],
      "execution_count": 0,
      "outputs": [
        {
          "output_type": "stream",
          "text": [
            "------Test-------\n",
            "A:\n",
            " [[ 0.  1.]\n",
            " [ 0. -1.]]\n",
            "B:\n",
            " [0.         0.33333333]\n",
            "A:\n",
            " [[ 0.          1.          0.          0.        ]\n",
            " [ 0.          0.          1.          0.        ]\n",
            " [ 0.          0.          0.          1.        ]\n",
            " [ 0.         -0.66666667  1.         -0.66666667]]\n",
            "B:\n",
            " [0. 0. 0. 1.]\n"
          ],
          "name": "stdout"
        }
      ]
    },
    {
      "cell_type": "markdown",
      "metadata": {
        "id": "HfSJbwDYaDPz",
        "colab_type": "text"
      },
      "source": [
        "# Task 6. Solving ODE and SS with Python.\n",
        "\n",
        "\n",
        "## ODE\n"
      ]
    },
    {
      "cell_type": "code",
      "metadata": {
        "id": "I6pMbUPT1J9T",
        "colab_type": "code",
        "outputId": "8f4f54a2-e2bd-43af-a8fd-03a5743b966b",
        "colab": {
          "base_uri": "https://localhost:8080/",
          "height": 312
        }
      },
      "source": [
        "def time_func(t):\n",
        "  \"\"\"\n",
        "    currently, t is set as in ode of task2 (q)\n",
        "  \"\"\"\n",
        "  return t\n",
        "\n",
        "def pass_ode(y, t, k, coefs, b0):\n",
        "  \"\"\"\n",
        "  function for passing to odeint\n",
        "\n",
        "  k - degree of ode\n",
        "  coefs - the following list of coefficients: [a_k, a_{k-1}, ..., a_1, a_0]\n",
        "  b0 - free coefficient \n",
        "  \"\"\"\n",
        "  dydt = y[1:]\n",
        "  last = b0/coefs[0] - y.dot(np.flip(coefs)[:-1]) / coefs[0] + time_func(t) / coefs[0]\n",
        "  dydt = np.append(dydt, last)\n",
        "  return dydt\n",
        "\n",
        "def ode_odeint(k, coefs, b0, y0s):\n",
        "  \"\"\"\n",
        "    k - degree of ODE\n",
        "    coefs - the following list of coefficients: [a_k, a_{k-1}, ..., a_1, a_0]\n",
        "    b0 - free coefficient\n",
        "    y0s - list of initial values: [y^{k-1}(0), y^{k-2}(0), ..., y'(0), y(0)] \n",
        "  \"\"\"\n",
        "  t = np.linspace(0, 1, 100)\n",
        "  sol = odeint(pass_ode, y0s[::-1], t, args=(k, coefs, b0))\n",
        "  return sol \n",
        "\n",
        "\n",
        "#Testing on ode from task2 (q)\n",
        "x = ode_odeint(2, [1, -1, -7], 3, [4, 3])\n",
        "t = np.linspace(0, 1, 100)\n",
        "\n",
        "plt.plot(t, x[:, 0], label = 'x')\n",
        "plt.plot(t, x[:, 1], label = \"x'\")\n",
        "plt.xlabel('time')\n",
        "plt.ylabel('x')\n",
        "plt.title(\"ODE solution\")\n",
        "plt.legend(loc='best')"
      ],
      "execution_count": 0,
      "outputs": [
        {
          "output_type": "execute_result",
          "data": {
            "text/plain": [
              "<matplotlib.legend.Legend at 0x7f07d306b5c0>"
            ]
          },
          "metadata": {
            "tags": []
          },
          "execution_count": 3
        },
        {
          "output_type": "display_data",
          "data": {
            "image/png": "[encoded data removed]",
            "text/plain": [
              "<Figure size 432x288 with 1 Axes>"
            ]
          },
          "metadata": {
            "tags": []
          }
        }
      ]
    },
    {
      "cell_type": "markdown",
      "metadata": {
        "id": "mOJKTF9mbCSv",
        "colab_type": "text"
      },
      "source": [
        "## State Space\n",
        "\n"
      ]
    },
    {
      "cell_type": "code",
      "metadata": {
        "id": "_y-y1wWDVxdh",
        "colab_type": "code",
        "outputId": "7193299d-b1bb-4171-f458-ae905c301e1b",
        "colab": {
          "base_uri": "https://localhost:8080/",
          "height": 312
        }
      },
      "source": [
        "def pass_ss(y, t, A, B, k):\n",
        "  \"\"\"\n",
        "  function for passing to odeint\n",
        "\n",
        "  A and B are matrecies from SS\n",
        "  k - degree of ODE\n",
        "  \"\"\"\n",
        "  dydt = np.add(A.dot(y), B)\n",
        "  T = np.zeros(k)\n",
        "  T[k-1] = time_func(t)\n",
        "  dydt = np.add(dydt, T)\n",
        "  return dydt\n",
        "\n",
        "def ss_odeint(k, A, B, y0s):\n",
        "  \"\"\"\n",
        "    k - degree of ODE\n",
        "    coefs - the following list of coefficients: [a_k, a_{k-1}, ..., a_1, a_0]\n",
        "    b0 - free coefficient\n",
        "    y0s - list of initial values: [y^{k-1}(0), y^{k-2}(0), ..., y'(0), y(0)] \n",
        "  \"\"\"\n",
        "  t = np.linspace(0, 1, 100)\n",
        "  sol = odeint(pass_ss, y0s[::-1], t, args=(A, B, k))\n",
        "  return sol \n",
        "\n",
        "#Testing on ode from task2 (q)\n",
        "A, B = doe_to_ss(2, [1, -1, -7], 3)\n",
        "x = ss_odeint(2, A, B, [4, 3])\n",
        "t = np.linspace(0, 1, 100)\n",
        "\n",
        "plt.plot(t, x[:, 0], label = 'x')\n",
        "plt.plot(t, x[:, 1], label = \"x'\")\n",
        "plt.xlabel('time')\n",
        "plt.ylabel('x')\n",
        "plt.title(\"SS solution\")\n",
        "plt.legend(loc='best')"
      ],
      "execution_count": 0,
      "outputs": [
        {
          "output_type": "execute_result",
          "data": {
            "text/plain": [
              "<matplotlib.legend.Legend at 0x7f07d2b48160>"
            ]
          },
          "metadata": {
            "tags": []
          },
          "execution_count": 4
        },
        {
          "output_type": "display_data",
          "data": {
            "image/png": "[encoded data removed]",
            "text/plain": [
              "<Figure size 432x288 with 1 Axes>"
            ]
          },
          "metadata": {
            "tags": []
          }
        }
      ]
    },
    {
      "cell_type": "markdown",
      "metadata": {
        "id": "tGwtqnVWdUiM",
        "colab_type": "text"
      },
      "source": [
        "# Stability"
      ]
    },
    {
      "cell_type": "code",
      "metadata": {
        "id": "iSsgNDILdZ3f",
        "colab_type": "code",
        "outputId": "21f1c3bc-68be-45e2-e43d-0da268a1ba15",
        "colab": {
          "base_uri": "https://localhost:8080/",
          "height": 68
        }
      },
      "source": [
        "val, vec = np.linalg.eig(A)\n",
        "\n",
        "print(\"evals: \", val)\n",
        "print(\"evecs: \", vec)"
      ],
      "execution_count": 0,
      "outputs": [
        {
          "output_type": "stream",
          "text": [
            "evals:  [-2.1925824  3.1925824]\n",
            "evecs:  [[-0.41496214 -0.29890615]\n",
            " [ 0.90983868 -0.95428251]]\n"
          ],
          "name": "stdout"
        }
      ]
    },
    {
      "cell_type": "markdown",
      "metadata": {
        "id": "g-SuzsT-dw9k",
        "colab_type": "text"
      },
      "source": [
        "Looking at the graph (which is continuously increasing) and at eigenvalues (1 positive), we can say that the system is unstable. Hence, the solution diverges."
      ]
    }
  ]
}